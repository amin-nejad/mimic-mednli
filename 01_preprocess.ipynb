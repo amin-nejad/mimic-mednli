{
 "cells": [
  {
   "cell_type": "code",
   "execution_count": 1,
   "metadata": {},
   "outputs": [],
   "source": [
    "import pandas as pd\n",
    "import numpy as np\n",
    "from pathlib import Path\n",
    "from shutil import copyfile\n",
    "from eda import eda\n",
    "import os"
   ]
  },
  {
   "cell_type": "code",
   "execution_count": 2,
   "metadata": {},
   "outputs": [],
   "source": [
    "DATA = Path('/mimic/data/')\n",
    "NEW_DATA=Path('data')\n",
    "\n",
    "# Full resource\n",
    "ORIGINAL=DATA/'preprocessed/tgt-test.txt'\n",
    "TRANSFORMER=DATA/'t2t_experiments/transformer/full_context/output/transformer_decoded/tgt-test.001.txt'\n",
    "GPT2=DATA/'gpt2/test-output-text.txt'\n",
    "\n",
    "# Low resource\n",
    "ORIGINAL_LOW=DATA/'preprocessed/low_resource/tgt-test.txt'\n",
    "TRANSFORMER_LOW=DATA/'t2t_experiments/transformer/low_resource/full_context/output/transformer_decoded/tgt-test.001.txt'\n",
    "GPT2_LOW=DATA/'gpt2/low_resource/test-output-text.txt'\n",
    "\n",
    "\n",
    "NEW_DATA.mkdir(exist_ok=True)"
   ]
  },
  {
   "cell_type": "code",
   "execution_count": null,
   "metadata": {},
   "outputs": [],
   "source": [
    "copyfile(ORIGINAL,NEW_DATA/'original.txt')\n",
    "copyfile(ORIGINAL_LOW,NEW_DATA/'original-lowresource.txt')\n",
    "copyfile(TRANSFORMER,NEW_DATA/'transformer.txt')\n",
    "copyfile(TRANSFORMER_LOW,NEW_DATA/'transformer-lowresource.txt')\n",
    "copyfile(GPT2,NEW_DATA/'gpt2.txt')\n",
    "copyfile(GPT2_LOW,NEW_DATA/'gpt2-lowresource.txt')"
   ]
  },
  {
   "cell_type": "code",
   "execution_count": 3,
   "metadata": {},
   "outputs": [
    {
     "name": "stdout",
     "output_type": "stream",
     "text": [
      "wc: data/data: Is a directory\n",
      "        0 data/data\n",
      "     3692 data/gpt2-lowresource.combined.txt\n",
      "     1846 data/gpt2-lowresource.txt\n",
      "    11454 data/gpt2.combined.txt\n",
      "     5727 data/gpt2.txt\n",
      "     1846 data/original-lowresource.txt\n",
      "     5727 data/original.txt\n",
      "     3692 data/transformer-lowresource.combined.txt\n",
      "     1846 data/transformer-lowresource.txt\n",
      "    11454 data/transformer.combined.txt\n",
      "     5727 data/transformer.txt\n",
      "    53011 total\n"
     ]
    }
   ],
   "source": [
    "# Verify we have the right number of lines\n",
    "\n",
    "!wc -l data/*"
   ]
  },
  {
   "cell_type": "code",
   "execution_count": 4,
   "metadata": {},
   "outputs": [],
   "source": [
    "!cat data/original.txt data/transformer.txt > data/transformer.combined.txt\n",
    "!cat data/original-lowresource.txt data/transformer-lowresource.txt > data/transformer-lowresource.combined.txt\n",
    "!cat data/original.txt data/gpt2.txt > data/gpt2.combined.txt\n",
    "!cat data/original-lowresource.txt data/gpt2-lowresource.txt > data/gpt2-lowresource.combined.txt"
   ]
  },
  {
   "cell_type": "markdown",
   "metadata": {},
   "source": [
    "## EDA"
   ]
  },
  {
   "cell_type": "code",
   "execution_count": 8,
   "metadata": {},
   "outputs": [],
   "source": [
    "with open(NEW_DATA/'original.txt', 'r') as f:\n",
    "    original = f.readlines()\n",
    "original=pd.DataFrame({'text':original})\n",
    "          \n",
    "with open(NEW_DATA/'original-lowresource.txt', 'r') as f:\n",
    "    original_low = f.readlines()\n",
    "original_low=pd.DataFrame({'text':original_low})"
   ]
  },
  {
   "cell_type": "markdown",
   "metadata": {},
   "source": [
    "Full resource"
   ]
  },
  {
   "cell_type": "code",
   "execution_count": 9,
   "metadata": {},
   "outputs": [],
   "source": [
    "alpha = 0.1\n",
    "num_aug = 1 # number of augmented sentences per original sentence\n",
    "aug=[]\n",
    "\n",
    "for i in range(len(original)):\n",
    "    sentence = original['text'][i]\n",
    "    aug_sentences = eda.eda(sentence, alpha_sr=alpha, alpha_ri=alpha, alpha_rs=alpha, p_rd=alpha, num_aug=num_aug)\n",
    "    aug.append(aug_sentences)"
   ]
  },
  {
   "cell_type": "code",
   "execution_count": 10,
   "metadata": {},
   "outputs": [],
   "source": [
    "aug_text = pd.Series((v[0] for v in aug))\n",
    "df_eda = original\n",
    "df_eda['text']=aug_text"
   ]
  },
  {
   "cell_type": "code",
   "execution_count": 11,
   "metadata": {},
   "outputs": [],
   "source": [
    "df_eda = original.append(df_eda, ignore_index=True)\n",
    "np.savetxt(NEW_DATA/'eda.txt', df_eda, fmt='%s', newline=os.linesep)"
   ]
  },
  {
   "cell_type": "markdown",
   "metadata": {},
   "source": [
    "Low resource"
   ]
  },
  {
   "cell_type": "code",
   "execution_count": null,
   "metadata": {},
   "outputs": [],
   "source": [
    "alpha = 0.1\n",
    "num_aug = 1 # number of augmented sentences per original sentence\n",
    "aug=[]\n",
    "\n",
    "for i in range(len(original_low)):\n",
    "    sentence = original_low['text'][i]\n",
    "    aug_sentences = eda.eda(sentence, alpha_sr=alpha, alpha_ri=alpha, alpha_rs=alpha, p_rd=alpha, num_aug=num_aug)\n",
    "    aug.append(aug_sentences)"
   ]
  },
  {
   "cell_type": "code",
   "execution_count": null,
   "metadata": {},
   "outputs": [],
   "source": [
    "aug_text = pd.Series((v[0] for v in aug))\n",
    "eda_low = original_low\n",
    "eda_low['text']=aug_text"
   ]
  },
  {
   "cell_type": "code",
   "execution_count": null,
   "metadata": {},
   "outputs": [],
   "source": [
    "eda_low = original_low.append(eda_low, ignore_index=True)\n",
    "np.savetxt(NEW_DATA/'eda-lowresource.txt', eda_low, fmt='%s', newline=os.linesep)"
   ]
  },
  {
   "cell_type": "markdown",
   "metadata": {},
   "source": [
    "#### Final verification"
   ]
  },
  {
   "cell_type": "code",
   "execution_count": null,
   "metadata": {},
   "outputs": [],
   "source": [
    "!wc -l data/*"
   ]
  }
 ],
 "metadata": {
  "kernelspec": {
   "display_name": "Python 3",
   "language": "python",
   "name": "python3"
  },
  "language_info": {
   "codemirror_mode": {
    "name": "ipython",
    "version": 3
   },
   "file_extension": ".py",
   "mimetype": "text/x-python",
   "name": "python",
   "nbconvert_exporter": "python",
   "pygments_lexer": "ipython3",
   "version": "3.7.4"
  }
 },
 "nbformat": 4,
 "nbformat_minor": 2
}
